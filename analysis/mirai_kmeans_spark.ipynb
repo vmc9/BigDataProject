{
 "cells": [
  {
   "cell_type": "code",
   "execution_count": 12,
   "metadata": {
    "collapsed": true,
    "pycharm": {
     "is_executing": false
    }
   },
   "outputs": [],
   "source": [
    "import pyspark\n",
    "import numpy as np\n",
    "from pyspark.ml.evaluation import MulticlassClassificationEvaluator\n",
    "from pyspark.ml.feature import VectorAssembler\n",
    "from pyspark.ml.tuning import ParamGridBuilder, CrossValidator\n",
    "from pyspark.rdd import RDD\n",
    "from pyspark.sql import Row\n",
    "from pyspark.sql import DataFrame\n",
    "from pyspark.sql.types import DoubleType\n",
    "from pyspark.sql.functions import lit, rand, row_number\n",
    "from pyspark.sql import SparkSession\n",
    "from pyspark.ml import Pipeline\n",
    "from pyspark.ml.clustering import KMeans\n",
    "from pyspark.ml.evaluation import ClusteringEvaluator\n",
    "from pyspark.mllib.evaluation import MulticlassMetrics\n",
    "from pyspark.ml.feature import StandardScaler\n",
    "import matplotlib.pyplot as plt"
   ]
  },
  {
   "cell_type": "code",
   "execution_count": 13,
   "outputs": [],
   "source": [
    "from pyspark.sql.types import DoubleType\n",
    "spark = SparkSession \\\n",
    "    .builder \\\n",
    "    .appName(\"Python Spark SQL basic example\") \\\n",
    "    .config(\"spark.some.config.option\", \"some-value\") \\\n",
    "    .getOrCreate()\n",
    "sc = spark.sparkContext"
   ],
   "metadata": {
    "collapsed": false,
    "pycharm": {
     "name": "#%%\n",
     "is_executing": false
    }
   }
  },
  {
   "cell_type": "code",
   "execution_count": 14,
   "outputs": [],
   "source": [
    "mirai_devices = ['danmini_doorbell', 'ecobee_thermostat', 'philips_B120N10_baby_monitor', \n",
    "            'provision_PT_737E_security_camera', 'provision_PT_838_security_camera',\n",
    "            'simplehome_XCS_1002_WHT_security_camera', 'simplehome_XCS_1003_WHT_security_camera']\n",
    "\n",
    "benign = ['danmini_doorbell', 'ecobee_thermostat', 'ennio_doorbell', 'philips_B120N10_baby_monitor', \n",
    "            'provision_PT_737E_security_camera', 'provision_PT_838_security_camera', 'samsung_SNH_1011_N_webcam',\n",
    "            'simplehome_XCS_1002_WHT_security_camera', 'simplehome_XCS_1003_WHT_security_camera']\n",
    "\n",
    "mirai_attacks = ['ack', # automatic scan for vulnerable devices\n",
    "                 'scan', # ack flood\n",
    "                 'syn', # syn flood\n",
    "                 'udp', # udp flood\n",
    "                 'udpplain'] # optimized udp flood"
   ],
   "metadata": {
    "collapsed": false,
    "pycharm": {
     "name": "#%%\n",
     "is_executing": false
    }
   }
  },
  {
   "cell_type": "code",
   "execution_count": 15,
   "outputs": [
    {
     "name": "stdout",
     "text": [
      "total data for prediciton modeling = 4224334\n"
     ],
     "output_type": "stream"
    }
   ],
   "source": [
    "first = True\n",
    "mirai_data = None\n",
    "for device in mirai_devices:\n",
    "    for attack in mirai_attacks:\n",
    "        if first:\n",
    "            mirai_data = spark.read.option(\"inferSchema\",True)\\\n",
    "                .option(\"header\", True).csv(f'../data/n_balo_t/{device}/mirai_attacks/{attack}.csv')\n",
    "            mirai_data = mirai_data.withColumn(\"label\", lit(attack))\n",
    "            first = False\n",
    "        else:\n",
    "            to_add = spark.read.option(\"inferSchema\",True)\\\n",
    "                .option(\"header\", True).csv(f'../data/n_balo_t/{device}/mirai_attacks/{attack}.csv')\n",
    "            to_add = to_add.withColumn(\"label\", lit(attack))\n",
    "            mirai_data = mirai_data.union(to_add)\n",
    "first = True\n",
    "benign_data = None\n",
    "for device in benign:\n",
    "    if first:\n",
    "        benign_data = spark.read.option(\"inferSchema\",True)\\\n",
    "            .option(\"header\", True).csv(f'../data/n_balo_t/{device}/benign_traffic.csv')\n",
    "        first = False\n",
    "    else:\n",
    "        to_add = spark.read.option(\"inferSchema\",True)\\\n",
    "            .option(\"header\", True).csv(f'../data/n_balo_t/{device}/benign_traffic.csv')\n",
    "        benign_data = benign_data.union(to_add)\n",
    "benign_data = benign_data.withColumn('label', lit(\"benign\"))\n",
    "\n",
    "mirai_data = mirai_data.union(benign_data)\n",
    "\n",
    "print(f'total data for prediciton modeling = {mirai_data.count()}')"
   ],
   "metadata": {
    "collapsed": false,
    "pycharm": {
     "name": "#%%\n",
     "is_executing": false
    }
   }
  },
  {
   "cell_type": "code",
   "execution_count": 16,
   "outputs": [],
   "source": [
    "cols = mirai_data.columns\n",
    "new_cols = [str(i) for i in range(len(cols))]\n",
    "mirai_data = mirai_data.toDF(*new_cols)\n",
    "mirai_data = mirai_data.withColumnRenamed('115', 'label')"
   ],
   "metadata": {
    "collapsed": false,
    "pycharm": {
     "name": "#%%\n",
     "is_executing": false
    }
   }
  },
  {
   "cell_type": "code",
   "execution_count": 17,
   "outputs": [],
   "source": [
    "def reg_kmeans(data, min_k=2, max_k=5):\n",
    "    feature_list = []\n",
    "    for col in data.columns:\n",
    "        if col == 'label':\n",
    "            continue\n",
    "        else:\n",
    "            feature_list.append(col)\n",
    "            \n",
    "    # set up feature and labels as input and output\n",
    "    asmblr = VectorAssembler(inputCols=feature_list, outputCol=\"features\")\n",
    "        \n",
    "    assembled_data=asmblr.transform(data)\n",
    "    \n",
    "    scale=StandardScaler(inputCol='features',outputCol='standardized')\n",
    "    data_scale=scale.fit(assembled_data)\n",
    "    data_scale_output=data_scale.transform(assembled_data)\n",
    "    \n",
    "    silhouette_score=[]\n",
    "    \n",
    "    evaluator = ClusteringEvaluator(predictionCol='prediction', featuresCol='standardized', \\\n",
    "                                    metricName='silhouette', distanceMeasure='squaredEuclidean')\n",
    "    \n",
    "    highest = (0, 0, None)\n",
    "    \n",
    "    for i in range(min_k, max_k):\n",
    "        KMeans_algo=KMeans(featuresCol='standardized', k=i)\n",
    "        \n",
    "        KMeans_fit=KMeans_algo.fit(data_scale_output)\n",
    "        \n",
    "        output=KMeans_fit.transform(data_scale_output)\n",
    "        \n",
    "        score=evaluator.evaluate(output)\n",
    "        \n",
    "        if highest[0] < score:\n",
    "            highest = (score, i, output)\n",
    "        \n",
    "        silhouette_score.append(score)\n",
    "        \n",
    "        print(\"Silhouette Score:\",score)\n",
    "    \n",
    "    fig, ax = plt.subplots(1,1, figsize =(8,6))\n",
    "    ax.plot(range(min_k, max_k),silhouette_score)\n",
    "    ax.set_xlabel('k')\n",
    "    ax.set_ylabel('cost')\n",
    "        \n",
    "    return highest"
   ],
   "metadata": {
    "collapsed": false,
    "pycharm": {
     "name": "#%%\n",
     "is_executing": false
    }
   }
  },
  {
   "cell_type": "code",
   "execution_count": 18,
   "outputs": [
    {
     "name": "stdout",
     "text": [
      "211874\n"
     ],
     "output_type": "stream"
    }
   ],
   "source": [
    "big_sample, small_sample = mirai_data.randomSplit([0.95, 0.05])\n",
    "print(small_sample.count())"
   ],
   "metadata": {
    "collapsed": false,
    "pycharm": {
     "name": "#%%\n",
     "is_executing": false
    }
   }
  },
  {
   "cell_type": "code",
   "execution_count": 19,
   "outputs": [
    {
     "name": "stdout",
     "text": [
      "Silhouette Score: 0.49899853249227066\n",
      "Silhouette Score: 0.2898179958537891\n",
      "Silhouette Score: 0.48389274542553257\n",
      "Silhouette Score: 0.6114105883015302\n",
      "Silhouette Score: 0.6034501026279814\n",
      "Silhouette Score: 0.5853494472861753\n"
     ],
     "output_type": "stream"
    },
    {
     "data": {
      "text/plain": "<Figure size 576x432 with 1 Axes>",
      "image/png": "[encoded data removed]"
     },
     "metadata": {
      "needs_background": "light"
     },
     "output_type": "display_data"
    }
   ],
   "source": [
    "predictions = reg_kmeans(small_sample, 2, 8)"
   ],
   "metadata": {
    "collapsed": false,
    "pycharm": {
     "name": "#%%\n",
     "is_executing": false
    }
   }
  },
  {
   "cell_type": "code",
   "execution_count": 25,
   "outputs": [
    {
     "name": "stdout",
     "text": [
      "(0.6114105883015302, 5, DataFrame[0: double, 1: double, 2: double, 3: double, 4: double, 5: double, 6: double, 7: double, 8: double, 9: double, 10: double, 11: double, 12: double, 13: double, 14: double, 15: double, 16: double, 17: double, 18: double, 19: double, 20: double, 21: double, 22: double, 23: double, 24: double, 25: double, 26: double, 27: double, 28: double, 29: double, 30: double, 31: double, 32: double, 33: double, 34: double, 35: double, 36: double, 37: double, 38: double, 39: double, 40: double, 41: double, 42: double, 43: double, 44: double, 45: double, 46: double, 47: double, 48: double, 49: double, 50: double, 51: double, 52: double, 53: double, 54: double, 55: double, 56: double, 57: double, 58: double, 59: double, 60: double, 61: double, 62: double, 63: double, 64: double, 65: double, 66: double, 67: double, 68: double, 69: double, 70: double, 71: double, 72: double, 73: double, 74: double, 75: double, 76: double, 77: double, 78: double, 79: double, 80: double, 81: double, 82: double, 83: double, 84: double, 85: double, 86: double, 87: double, 88: double, 89: double, 90: double, 91: double, 92: double, 93: double, 94: double, 95: double, 96: double, 97: double, 98: double, 99: double, 100: double, 101: double, 102: double, 103: double, 104: double, 105: double, 106: double, 107: double, 108: double, 109: double, 110: double, 111: double, 112: double, 113: double, 114: double, label: string, features: vector, standardized: vector, prediction: int])\n",
      "+-----+----------+\n|label|prediction|\n+-----+----------+\n|  ack|         1|\n|  ack|         0|\n|  ack|         1|\n|  ack|         0|\n|  ack|         1|\n|  ack|         1|\n|  ack|         1|\n|  ack|         1|\n|  ack|         1|\n|  ack|         1|\n|  ack|         1|\n|  ack|         1|\n|  ack|         1|\n|  ack|         1|\n|  ack|         0|\n|  ack|         0|\n|  ack|         1|\n|  ack|         1|\n|  ack|         1|\n|  ack|         0|\n+-----+----------+\nonly showing top 20 rows\n\n"
     ],
     "output_type": "stream"
    }
   ],
   "source": [
    "labels_clusters = predictions[2].select(['label', 'prediction'])"
   ],
   "metadata": {
    "collapsed": false,
    "pycharm": {
     "name": "#%%\n",
     "is_executing": false
    }
   }
  },
  {
   "cell_type": "code",
   "execution_count": 27,
   "outputs": [
    {
     "name": "stdout",
     "text": [
      "+----------+-----+\n|prediction|count|\n+----------+-----+\n|         1|79361|\n|         3| 1672|\n|         4|65476|\n|         2|24433|\n|         0|40932|\n+----------+-----+\n\n"
     ],
     "output_type": "stream"
    }
   ],
   "source": [
    "clusters = predictions[2].groupBy(\"prediction\").count().show()"
   ],
   "metadata": {
    "collapsed": false,
    "pycharm": {
     "name": "#%%\n",
     "is_executing": false
    }
   }
  },
  {
   "cell_type": "code",
   "execution_count": 29,
   "outputs": [
    {
     "name": "stdout",
     "text": [
      "+--------+-----+\n|   label|count|\n+--------+-----+\n|  benign|   39|\n|udpplain|10235|\n|     ack|10044|\n|     udp|20614|\n+--------+-----+\n\n",
      "+--------+-----+\n|   label|count|\n+--------+-----+\n|  benign|   96|\n|udpplain|16183|\n|     ack|22022|\n|     udp|41060|\n+--------+-----+\n\n",
      "+------+-----+\n| label|count|\n+------+-----+\n|benign|   30|\n|   syn|24403|\n+------+-----+\n\n",
      "+------+-----+\n| label|count|\n+------+-----+\n|benign| 1672|\n+------+-----+\n\n",
      "+------+-----+\n| label|count|\n+------+-----+\n|benign|25822|\n|  scan|27139|\n|   syn|12233|\n|   ack|  279|\n|   udp|    3|\n+------+-----+\n\n"
     ],
     "output_type": "stream"
    }
   ],
   "source": [
    "for i in range(5):\n",
    "    labels_clusters.filter(labels_clusters['prediction'] == i).groupBy('label').count().show()\n",
    "    "
   ],
   "metadata": {
    "collapsed": false,
    "pycharm": {
     "name": "#%%\n",
     "is_executing": false
    }
   }
  }
 ],
 "metadata": {
  "kernelspec": {
   "display_name": "Python 3",
   "language": "python",
   "name": "python3"
  },
  "language_info": {
   "codemirror_mode": {
    "name": "ipython",
    "version": 2
   },
   "file_extension": ".py",
   "mimetype": "text/x-python",
   "name": "python",
   "nbconvert_exporter": "python",
   "pygments_lexer": "ipython2",
   "version": "2.7.6"
  },
  "pycharm": {
   "stem_cell": {
    "cell_type": "raw",
    "source": [],
    "metadata": {
     "collapsed": false
    }
   }
  }
 },
 "nbformat": 4,
 "nbformat_minor": 0
}