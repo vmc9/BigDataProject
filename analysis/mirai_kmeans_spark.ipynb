{
 "cells": [
  {
   "cell_type": "code",
   "execution_count": 1,
   "metadata": {
    "collapsed": true,
    "pycharm": {
     "is_executing": false
    }
   },
   "outputs": [],
   "source": [
    "import pyspark\n",
    "import numpy as np\n",
    "from pyspark.ml.evaluation import MulticlassClassificationEvaluator\n",
    "from pyspark.ml.feature import VectorAssembler\n",
    "from pyspark.ml.tuning import ParamGridBuilder, CrossValidator\n",
    "from pyspark.rdd import RDD\n",
    "from pyspark.sql import Row\n",
    "from pyspark.sql import DataFrame\n",
    "from pyspark.sql.types import DoubleType\n",
    "from pyspark.sql.functions import lit, rand, row_number\n",
    "from pyspark.sql import SparkSession\n",
    "from pyspark.ml import Pipeline\n",
    "from pyspark.ml.clustering import KMeans\n",
    "from pyspark.ml.evaluation import ClusteringEvaluator\n",
    "from pyspark.mllib.evaluation import MulticlassMetrics\n",
    "from pyspark.ml.feature import StandardScaler\n",
    "import matplotlib.pyplot as plt"
   ]
  },
  {
   "cell_type": "code",
   "execution_count": 2,
   "outputs": [],
   "source": [
    "from pyspark.sql.types import DoubleType\n",
    "spark = SparkSession \\\n",
    "    .builder \\\n",
    "    .appName(\"Python Spark SQL basic example\") \\\n",
    "    .config(\"spark.some.config.option\", \"some-value\") \\\n",
    "    .getOrCreate()\n",
    "sc = spark.sparkContext"
   ],
   "metadata": {
    "collapsed": false,
    "pycharm": {
     "name": "#%%\n",
     "is_executing": false
    }
   }
  },
  {
   "cell_type": "code",
   "execution_count": 3,
   "outputs": [],
   "source": [
    "mirai_devices = ['danmini_doorbell', 'ecobee_thermostat', 'philips_B120N10_baby_monitor', \n",
    "            'provision_PT_737E_security_camera', 'provision_PT_838_security_camera',\n",
    "            'simplehome_XCS_1002_WHT_security_camera', 'simplehome_XCS_1003_WHT_security_camera']\n",
    "\n",
    "benign = ['danmini_doorbell', 'ecobee_thermostat', 'ennio_doorbell', 'philips_B120N10_baby_monitor', \n",
    "            'provision_PT_737E_security_camera', 'provision_PT_838_security_camera', 'samsung_SNH_1011_N_webcam',\n",
    "            'simplehome_XCS_1002_WHT_security_camera', 'simplehome_XCS_1003_WHT_security_camera']\n",
    "\n",
    "mirai_attacks = ['ack', # automatic scan for vulnerable devices\n",
    "                 'scan', # ack flood\n",
    "                 'syn', # syn flood\n",
    "                 'udp', # udp flood\n",
    "                 'udpplain'] # optimized udp flood"
   ],
   "metadata": {
    "collapsed": false,
    "pycharm": {
     "name": "#%%\n",
     "is_executing": false
    }
   }
  },
  {
   "cell_type": "code",
   "execution_count": 4,
   "outputs": [
    {
     "name": "stdout",
     "text": [
      "total data for prediciton modeling = 4224334\n"
     ],
     "output_type": "stream"
    }
   ],
   "source": [
    "first = True\n",
    "mirai_data = None\n",
    "for device in mirai_devices:\n",
    "    for attack in mirai_attacks:\n",
    "        if first:\n",
    "            mirai_data = spark.read.option(\"inferSchema\",True)\\\n",
    "                .option(\"header\", True).csv(f'../data/n_balo_t/{device}/mirai_attacks/{attack}.csv')\n",
    "            mirai_data = mirai_data.withColumn(\"label\", lit(attack))\n",
    "            first = False\n",
    "        else:\n",
    "            to_add = spark.read.option(\"inferSchema\",True)\\\n",
    "                .option(\"header\", True).csv(f'../data/n_balo_t/{device}/mirai_attacks/{attack}.csv')\n",
    "            to_add = to_add.withColumn(\"label\", lit(attack))\n",
    "            mirai_data = mirai_data.union(to_add)\n",
    "first = True\n",
    "benign_data = None\n",
    "for device in benign:\n",
    "    if first:\n",
    "        benign_data = spark.read.option(\"inferSchema\",True)\\\n",
    "            .option(\"header\", True).csv(f'../data/n_balo_t/{device}/benign_traffic.csv')\n",
    "        first = False\n",
    "    else:\n",
    "        to_add = spark.read.option(\"inferSchema\",True)\\\n",
    "            .option(\"header\", True).csv(f'../data/n_balo_t/{device}/benign_traffic.csv')\n",
    "        benign_data = benign_data.union(to_add)\n",
    "benign_data = benign_data.withColumn('label', lit(\"benign\"))\n",
    "\n",
    "mirai_data = mirai_data.union(benign_data)\n",
    "\n",
    "print(f'total data for prediciton modeling = {mirai_data.count()}')"
   ],
   "metadata": {
    "collapsed": false,
    "pycharm": {
     "name": "#%%\n",
     "is_executing": false
    }
   }
  },
  {
   "cell_type": "code",
   "execution_count": 5,
   "outputs": [],
   "source": [
    "cols = mirai_data.columns\n",
    "new_cols = [str(i) for i in range(len(cols))]\n",
    "mirai_data = mirai_data.toDF(*new_cols)\n",
    "mirai_data = mirai_data.withColumnRenamed('115', 'label')"
   ],
   "metadata": {
    "collapsed": false,
    "pycharm": {
     "name": "#%%\n",
     "is_executing": false
    }
   }
  },
  {
   "cell_type": "code",
   "execution_count": 6,
   "outputs": [],
   "source": [
    "def reg_kmeans(data, min_k=2, max_k=5):\n",
    "    feature_list = []\n",
    "    for col in data.columns:\n",
    "        if col == 'label':\n",
    "            continue\n",
    "        else:\n",
    "            feature_list.append(col)\n",
    "            \n",
    "    # set up feature and labels as input and output\n",
    "    asmblr = VectorAssembler(inputCols=feature_list, outputCol=\"features\")\n",
    "        \n",
    "    assembled_data=asmblr.transform(data)\n",
    "    \n",
    "    scale=StandardScaler(inputCol='features',outputCol='standardized')\n",
    "    data_scale=scale.fit(assembled_data)\n",
    "    data_scale_output=data_scale.transform(assembled_data)\n",
    "    \n",
    "    silhouette_score=[]\n",
    "    \n",
    "    evaluator = ClusteringEvaluator(predictionCol='prediction', featuresCol='standardized', \\\n",
    "                                    metricName='silhouette', distanceMeasure='squaredEuclidean')\n",
    "    \n",
    "    highest = (0, None)\n",
    "    \n",
    "    for i in range(min_k, max_k):\n",
    "        KMeans_algo=KMeans(featuresCol='standardized', k=i)\n",
    "        \n",
    "        KMeans_fit=KMeans_algo.fit(data_scale_output)\n",
    "        \n",
    "        output=KMeans_fit.transform(data_scale_output)\n",
    "        \n",
    "        score=evaluator.evaluate(output)\n",
    "        \n",
    "        if highest[0] < score:\n",
    "            highest = (score, output)\n",
    "        \n",
    "        silhouette_score.append(score)\n",
    "        \n",
    "        print(\"Silhouette Score:\",score)\n",
    "    \n",
    "    fig, ax = plt.subplots(1,1, figsize =(8,6))\n",
    "    ax.plot(range(min_k, max_k),silhouette_score)\n",
    "    ax.set_xlabel('k')\n",
    "    ax.set_ylabel('cost')\n",
    "        \n",
    "    return highest"
   ],
   "metadata": {
    "collapsed": false,
    "pycharm": {
     "name": "#%%\n",
     "is_executing": false
    }
   }
  },
  {
   "cell_type": "code",
   "execution_count": 7,
   "outputs": [
    {
     "name": "stdout",
     "text": [
      "210867\n"
     ],
     "output_type": "stream"
    }
   ],
   "source": [
    "big_sample, small_sample = mirai_data.randomSplit([0.95, 0.05])\n",
    "print(small_sample.count())"
   ],
   "metadata": {
    "collapsed": false,
    "pycharm": {
     "name": "#%%\n",
     "is_executing": false
    }
   }
  },
  {
   "cell_type": "code",
   "execution_count": 10,
   "outputs": [
    {
     "name": "stdout",
     "text": [
      "Silhouette Score: 0.4929274192397567\n",
      "Silhouette Score: 0.5135661388393621\n",
      "Silhouette Score: 0.5230902748734655\n",
      "Silhouette Score: 0.49231435688050673\n",
      "Silhouette Score: 0.6026911952234411\n"
     ],
     "output_type": "stream"
    },
    {
     "data": {
      "text/plain": "<Figure size 576x432 with 1 Axes>",
      "image/png": "[encoded data removed]"
     },
     "metadata": {
      "needs_background": "light"
     },
     "output_type": "display_data"
    }
   ],
   "source": [
    "predictions = reg_kmeans(small_sample, 2, 7)"
   ],
   "metadata": {
    "collapsed": false,
    "pycharm": {
     "name": "#%%\n",
     "is_executing": false
    }
   }
  }
 ],
 "metadata": {
  "kernelspec": {
   "display_name": "Python 3",
   "language": "python",
   "name": "python3"
  },
  "language_info": {
   "codemirror_mode": {
    "name": "ipython",
    "version": 2
   },
   "file_extension": ".py",
   "mimetype": "text/x-python",
   "name": "python",
   "nbconvert_exporter": "python",
   "pygments_lexer": "ipython2",
   "version": "2.7.6"
  },
  "pycharm": {
   "stem_cell": {
    "cell_type": "raw",
    "source": [],
    "metadata": {
     "collapsed": false
    }
   }
  }
 },
 "nbformat": 4,
 "nbformat_minor": 0
}