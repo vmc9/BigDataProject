{
 "cells": [
  {
   "cell_type": "code",
   "execution_count": 12,
   "outputs": [],
   "source": [
    "import dask.dataframe as dd\n",
    "from dask_ml.model_selection import KFold\n",
    "from dask_ml.cluster import KMeans\n",
    "from dask_ml.metrics import accuracy_score"
   ],
   "metadata": {
    "collapsed": false,
    "pycharm": {
     "name": "#%%\n",
     "is_executing": false
    }
   }
  },
  {
   "cell_type": "code",
   "execution_count": 13,
   "outputs": [],
   "source": [
    "mirai_devices = ['danmini_doorbell', 'ecobee_thermostat', 'philips_B120N10_baby_monitor', \n",
    "            'provision_PT_737E_security_camera', 'provision_PT_838_security_camera',\n",
    "            'simplehome_XCS_1002_WHT_security_camera', 'simplehome_XCS_1003_WHT_security_camera']\n",
    "\n",
    "benign = ['danmini_doorbell', 'ecobee_thermostat', 'ennio_doorbell', 'philips_B120N10_baby_monitor', \n",
    "            'provision_PT_737E_security_camera', 'provision_PT_838_security_camera', 'samsung_SNH_1011_N_webcam',\n",
    "            'simplehome_XCS_1002_WHT_security_camera', 'simplehome_XCS_1003_WHT_security_camera']\n",
    "\n",
    "mirai_attacks = ['ack', # automatic scan for vulnerable devices\n",
    "                 'scan', # ack flood\n",
    "                 'syn', # syn flood\n",
    "                 'udp', # udp flood\n",
    "                 'udpplain'] # optimized udp flood"
   ],
   "metadata": {
    "collapsed": false,
    "pycharm": {
     "name": "#%%\n",
     "is_executing": false
    }
   }
  },
  {
   "cell_type": "code",
   "execution_count": 14,
   "outputs": [],
   "source": [
    "first = True\n",
    "mirai_data = None\n",
    "for device in mirai_devices:\n",
    "    for i in range(len(mirai_attacks)):\n",
    "        attack = mirai_attacks[i]\n",
    "        if first:\n",
    "            mirai_data = dd.read_csv(f'../data/n_balo_t/{device}/mirai_attacks/{attack}.csv')\n",
    "            mirai_data['label'] = i\n",
    "            first = False\n",
    "        else:\n",
    "            to_add = dd.read_csv(f'../data/n_balo_t/{device}/mirai_attacks/{attack}.csv')\n",
    "            to_add['label'] = i\n",
    "            mirai_data = mirai_data.append(other=to_add)\n",
    "        \n",
    "\n",
    "first = True\n",
    "benign_data = None\n",
    "for device in benign:\n",
    "    if first:\n",
    "        benign_data = dd.read_csv(f'../data/n_balo_t/{device}/benign_traffic.csv')\n",
    "        first = False\n",
    "    else:\n",
    "        to_add = dd.read_csv(f'../data/n_balo_t/{device}/benign_traffic.csv')\n",
    "        benign_data = benign_data.append(other=to_add)\n",
    "benign_data['label'] = 100\n",
    "mirai_data = mirai_data.append(other=benign_data)\n",
    "mirai_data_one, mirai_data_two = mirai_data.random_split([0.5, 0.5], shuffle=True)\n",
    "data = mirai_data_one.append(mirai_data_two)\n",
    "big_sample, small_sample = data.random_split([0.85, 0.15])"
   ],
   "metadata": {
    "collapsed": false,
    "pycharm": {
     "name": "#%%\n",
     "is_executing": false
    }
   }
  },
  {
   "cell_type": "code",
   "execution_count": 20,
   "outputs": [],
   "source": [
    "cv = KFold(n_splits=4, shuffle=True)\n",
    "total = 0\n",
    "fold_predictions = [] # (predictions, labels)\n",
    "clusters = []\n",
    "data = small_sample.to_dask_array(lengths=True)\n",
    "\n",
    "kfold = {}\n",
    "i = 0\n",
    "for train, test in cv.split(data):\n",
    "    kfold[f'k{i}'] = (train, test)\n",
    "    i += 1"
   ],
   "metadata": {
    "collapsed": false,
    "pycharm": {
     "name": "#%%\n",
     "is_executing": false
    }
   }
  },
  {
   "cell_type": "code",
   "execution_count": 34,
   "outputs": [
    {
     "name": "stdout",
     "text": [
      "dask.array<slice_with_int_dask_array_aggregate, shape=(475326, 116), dtype=float64, chunksize=(4877, 116), chunktype=numpy.ndarray> dask.array<slice_with_int_dask_array_aggregate, shape=(158443, 116), dtype=float64, chunksize=(4832, 116), chunktype=numpy.ndarray>\n"
     ],
     "output_type": "stream"
    },
    {
     "name": "stderr",
     "text": [
      "C:\\ProgramData\\Anaconda3\\envs\\471\\lib\\site-packages\\dask\\array\\slicing.py:1061: PerformanceWarning: Increasing number of chunks by factor of 165\n  dtype=x.dtype,\nC:\\ProgramData\\Anaconda3\\envs\\471\\lib\\site-packages\\dask\\array\\slicing.py:1061: PerformanceWarning: Increasing number of chunks by factor of 52\n  dtype=x.dtype,\n"
     ],
     "output_type": "stream"
    }
   ],
   "source": [
    "for k in kfold.keys():\n",
    "    current_fold = kfold[k]\n",
    "    \n",
    "    train = current_fold[0]\n",
    "    test = current_fold[1]\n",
    "    \n",
    "    train = data[train]\n",
    "    test = data[test]\n",
    "    \n",
    "    \n",
    "    \n",
    "    print(train, test)\n",
    "    break"
   ],
   "metadata": {
    "collapsed": false,
    "pycharm": {
     "name": "#%%\n",
     "is_executing": false
    }
   }
  },
  {
   "cell_type": "code",
   "execution_count": null,
   "outputs": [],
   "source": [
    "X_train = data[train_i][ : , :-1]\n",
    "y_train = data[train_i][ : , -1]\n",
    "X_test = data[test_i][ : , :-1]\n",
    "y_test = data[test_i][ : , -1]\n",
    "\n",
    "model = KMeans(n_clusters=5, init='k-means||', max_iter=300)\n",
    "model.fit(X_train)\n",
    "y_pred = model.predict(X_test)\n",
    "\n",
    "fold_predictions.append((y_pred, y_test))\n",
    "clusters.append(model.cluster_centers_)\n",
    "\n",
    "\n",
    "\n",
    "accuracy = accuracy_score(y_test, y_pred)\n",
    "print(accuracy)\n",
    "total += accuracy\n",
    "print(total/10)"
   ],
   "metadata": {
    "collapsed": false,
    "pycharm": {
     "name": "#%%\n"
    }
   }
  },
  {
   "cell_type": "code",
   "execution_count": 19,
   "outputs": [
    {
     "name": "stdout",
     "text": [
      "[]\n"
     ],
     "output_type": "stream"
    }
   ],
   "source": [
    "print(fold_predictions)"
   ],
   "metadata": {
    "collapsed": false,
    "pycharm": {
     "name": "#%%\n",
     "is_executing": false
    }
   }
  }
 ],
 "metadata": {
  "kernelspec": {
   "display_name": "Python 3",
   "language": "python",
   "name": "python3"
  },
  "language_info": {
   "codemirror_mode": {
    "name": "ipython",
    "version": 2
   },
   "file_extension": ".py",
   "mimetype": "text/x-python",
   "name": "python",
   "nbconvert_exporter": "python",
   "pygments_lexer": "ipython2",
   "version": "2.7.6"
  },
  "pycharm": {
   "stem_cell": {
    "cell_type": "raw",
    "source": [],
    "metadata": {
     "collapsed": false
    }
   }
  }
 },
 "nbformat": 4,
 "nbformat_minor": 0
}