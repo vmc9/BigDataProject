{
 "cells": [
  {
   "cell_type": "code",
   "execution_count": 1,
   "metadata": {
    "collapsed": true,
    "pycharm": {
     "is_executing": false
    }
   },
   "outputs": [],
   "source": [
    "import pyspark\n",
    "import numpy as np\n",
    "from pyspark.ml.evaluation import MulticlassClassificationEvaluator\n",
    "from pyspark.ml.feature import VectorAssembler\n",
    "from pyspark.ml.tuning import ParamGridBuilder, CrossValidator\n",
    "from pyspark.rdd import RDD\n",
    "from pyspark.sql import Row\n",
    "from pyspark.sql import DataFrame\n",
    "from pyspark.sql.types import DoubleType\n",
    "from pyspark.sql.functions import lit, rand, monotonically_increasing_id, row_number\n",
    "from pyspark.sql import SparkSession\n",
    "from pyspark.ml import Pipeline\n",
    "from pyspark.ml.classification import RandomForestClassifier\n",
    "from pyspark.mllib.evaluation import MulticlassMetrics\n",
    "from pyspark.sql.window import Window"
   ]
  },
  {
   "cell_type": "code",
   "execution_count": 2,
   "outputs": [],
   "source": [
    "from pyspark.sql.types import DoubleType\n",
    "spark = SparkSession \\\n",
    "    .builder \\\n",
    "    .appName(\"Python Spark SQL basic example\") \\\n",
    "    .config(\"spark.some.config.option\", \"some-value\") \\\n",
    "    .getOrCreate()\n",
    "sc = spark.sparkContext"
   ],
   "metadata": {
    "collapsed": false,
    "pycharm": {
     "name": "#%%\n",
     "is_executing": false
    }
   }
  },
  {
   "cell_type": "code",
   "execution_count": 3,
   "outputs": [],
   "source": [
    "mirai_devices = ['danmini_doorbell', 'ecobee_thermostat', 'philips_B120N10_baby_monitor', \n",
    "            'provision_PT_737E_security_camera', 'provision_PT_838_security_camera',\n",
    "            'simplehome_XCS_1002_WHT_security_camera', 'simplehome_XCS_1003_WHT_security_camera']\n",
    "\n",
    "benign = ['danmini_doorbell', 'ecobee_thermostat', 'ennio_doorbell', 'philips_B120N10_baby_monitor', \n",
    "            'provision_PT_737E_security_camera', 'provision_PT_838_security_camera', 'samsung_SNH_1011_N_webcam',\n",
    "            'simplehome_XCS_1002_WHT_security_camera', 'simplehome_XCS_1003_WHT_security_camera']\n",
    "\n",
    "mirai_attacks = ['ack', # automatic scan for vulnerable devices\n",
    "                 'scan', # ack flood\n",
    "                 'syn', # syn flood\n",
    "                 'udp', # udp flood\n",
    "                 'udpplain'] # optimized udp flood"
   ],
   "metadata": {
    "collapsed": false,
    "pycharm": {
     "name": "#%%\n",
     "is_executing": false
    }
   }
  },
  {
   "cell_type": "code",
   "execution_count": 4,
   "outputs": [
    {
     "name": "stdout",
     "text": [
      "total malign data = 3668402\ntotal benign data = 555932\n",
      "total data for prediciton modeling = 1111565\n"
     ],
     "output_type": "stream"
    }
   ],
   "source": [
    "first = True\n",
    "mirai_data = None\n",
    "for device in mirai_devices:\n",
    "    for attack in mirai_attacks:\n",
    "        if first:\n",
    "            mirai_data = spark.read.option(\"inferSchema\",True)\\\n",
    "                .option(\"header\", True).csv(f'../data/n_balo_t/{device}/mirai_attacks/{attack}.csv')\n",
    "            first = False\n",
    "        else:\n",
    "            to_add = spark.read.option(\"inferSchema\",True)\\\n",
    "                .option(\"header\", True).csv(f'../data/n_balo_t/{device}/mirai_attacks/{attack}.csv')\n",
    "            mirai_data = mirai_data.union(to_add)\n",
    "mirai_data = mirai_data.withColumn('label', lit(0))\n",
    "malign_total = mirai_data.count()\n",
    "\n",
    "first = True\n",
    "benign_data = None\n",
    "for device in benign:\n",
    "    if first:\n",
    "        benign_data = spark.read.option(\"inferSchema\",True)\\\n",
    "            .option(\"header\", True).csv(f'../data/n_balo_t/{device}/benign_traffic.csv')\n",
    "        first = False\n",
    "    else:\n",
    "        to_add = spark.read.option(\"inferSchema\",True)\\\n",
    "            .option(\"header\", True).csv(f'../data/n_balo_t/{device}/benign_traffic.csv')\n",
    "        benign_data = benign_data.union(to_add)\n",
    "benign_data = benign_data.withColumn('label', lit(1))\n",
    "benign_total = benign_data.count()\n",
    "ratio = benign_total/malign_total\n",
    "print(f'total malign data = {malign_total}')\n",
    "print(f'total benign data = {benign_total}')\n",
    "mirai_data = mirai_data.sample(False, fraction=ratio)\n",
    "mirai_data = mirai_data.union(benign_data)\n",
    "mirai_data = mirai_data.withColumn('label', mirai_data['label'].cast(DoubleType()))\n",
    "print(f'total data for prediciton modeling = {mirai_data.count()}')"
   ],
   "metadata": {
    "collapsed": false,
    "pycharm": {
     "name": "#%%\n",
     "is_executing": false
    }
   }
  },
  {
   "cell_type": "code",
   "execution_count": 5,
   "outputs": [],
   "source": [
    "cols = mirai_data.columns\n",
    "new_cols = [str(i) for i in range(len(cols))]\n",
    "mirai_data = mirai_data.toDF(*new_cols)\n",
    "mirai_data = mirai_data.withColumnRenamed('115', 'label')"
   ],
   "metadata": {
    "collapsed": false,
    "pycharm": {
     "name": "#%%\n",
     "is_executing": false
    }
   }
  },
  {
   "cell_type": "code",
   "execution_count": 6,
   "outputs": [
    {
     "name": "stdout",
     "text": [
      "555932 555633\n"
     ],
     "output_type": "stream"
    }
   ],
   "source": [
    "benign = mirai_data.filter(mirai_data['label']==1.0).count()\n",
    "malicious = mirai_data.filter(mirai_data['label']==0.0).count()\n",
    "print(benign, malicious)"
   ],
   "metadata": {
    "collapsed": false,
    "pycharm": {
     "name": "#%%\n",
     "is_executing": false
    }
   }
  },
  {
   "cell_type": "code",
   "execution_count": 7,
   "outputs": [],
   "source": [
    "def grid_rf(data, kfolds, threads, numTreeParams=None, maxDepthParams=None):\n",
    "    if numTreeParams is None:\n",
    "        numTreeParams = [int(x) for x in np.linspace(start = 5, stop = 25, num = 3)]\n",
    "    if maxDepthParams is None:\n",
    "        maxDepthParams = [int(x) for x in np.linspace(start = 5, stop = 25, num = 3)]\n",
    "        \n",
    "    feature_list = []\n",
    "    for col in data.columns:\n",
    "        if col == 'label':\n",
    "            continue\n",
    "        else:\n",
    "            feature_list.append(col)\n",
    "            \n",
    "    # set up feature and labels as input and output\n",
    "    asmblr = VectorAssembler(inputCols=feature_list, outputCol=\"features\")\n",
    "    \n",
    "    # initialize classifier\n",
    "    rf = RandomForestClassifier(labelCol=\"label\", featuresCol=\"features\")\n",
    "    \n",
    "    # pipeline the assembler and the random forest for cross validation\n",
    "    pipe = Pipeline(stages=[asmblr, rf])\n",
    "    \n",
    "    # grid search to optimize tree depth as well a number of trees\n",
    "    grid = ParamGridBuilder().addGrid(rf.numTrees, numTreeParams).addGrid(rf.maxDepth, maxDepthParams).build()\n",
    "    \n",
    "    evaluator = MulticlassClassificationEvaluator()\n",
    "    \n",
    "    cv = CrossValidator(estimator=pipe, \n",
    "                        estimatorParamMaps=grid, \n",
    "                        evaluator=evaluator, \n",
    "                        numFolds=kfolds, \n",
    "                        parallelism=threads)\n",
    "        \n",
    "    cvModel = cv.fit(data)\n",
    "    print(cvModel)\n",
    "    return cvModel\n",
    "    "
   ],
   "metadata": {
    "collapsed": false,
    "pycharm": {
     "name": "#%%\n",
     "is_executing": false
    }
   }
  },
  {
   "cell_type": "code",
   "execution_count": 8,
   "outputs": [],
   "source": [
    "def reg_rf(data, trees, maxD):\n",
    "    feature_list = []\n",
    "    for col in data.columns:\n",
    "        if col == 'label':\n",
    "            continue\n",
    "        else:\n",
    "            feature_list.append(col)\n",
    "            \n",
    "    # set up feature and labels as input and output\n",
    "    asmblr = VectorAssembler(inputCols=feature_list, outputCol=\"features\")\n",
    "    rf = RandomForestClassifier(labelCol=\"label\", featuresCol=\"features\", numTrees=trees, maxDepth=maxD)\n",
    "    \n",
    "    # pipeline the assembler and the random forest for cross validation\n",
    "    pipe = Pipeline(stages=[asmblr, rf])\n",
    "    (trainingData, testData) = data.randomSplit([0.7, 0.3])\n",
    "    model = pipe.fit(trainingData)\n",
    "    preds = model.transform(testData)\n",
    "    return preds"
   ],
   "metadata": {
    "collapsed": false,
    "pycharm": {
     "name": "#%%\n",
     "is_executing": false
    }
   }
  },
  {
   "cell_type": "code",
   "execution_count": 9,
   "outputs": [],
   "source": [
    "def printout(m):\n",
    "    print(f'Accuracy: {m.accuracy}')\n",
    "    print(f'F1: {m.fMeasure()}')\n",
    "    print(f'False Positive Rate for Benign: {m.falsePositiveRate(1.0)}')\n",
    "    print(f'True Positive Rate for Benign: {m.truePositiveRate(1.0)}')\n",
    "    print(f'False Positive Rate for Malicious: {m.falsePositiveRate(0.0)}')\n",
    "    print(f'True Positive Rate for Malicious: {m.truePositiveRate(0.0)}')\n",
    "    print(f'Precision: {m.precision()}')\n",
    "    print(f'Recall: {m.recall()}')"
   ],
   "metadata": {
    "collapsed": false,
    "pycharm": {
     "name": "#%%\n",
     "is_executing": false
    }
   }
  },
  {
   "cell_type": "code",
   "execution_count": 12,
   "outputs": [
    {
     "name": "stdout",
     "text": [
      "+-----+\n|label|\n+-----+\n|  1.0|\n|  1.0|\n|  1.0|\n|  1.0|\n|  1.0|\n|  1.0|\n|  0.0|\n|  1.0|\n|  1.0|\n|  0.0|\n|  0.0|\n|  0.0|\n|  1.0|\n|  1.0|\n|  1.0|\n|  0.0|\n|  0.0|\n|  0.0|\n|  1.0|\n|  0.0|\n+-----+\nonly showing top 20 rows\n\n"
     ],
     "output_type": "stream"
    }
   ],
   "source": [
    "big_sample, small_sample = mirai_data.randomSplit([0.85, 0.15])\n",
    "small_sample = small_sample.withColumn('order', rand(seed=123)).orderBy('order').drop('order')\n",
    "small_sample.select(['label']).show()"
   ],
   "metadata": {
    "collapsed": false,
    "pycharm": {
     "name": "#%%\n",
     "is_executing": false
    }
   }
  },
  {
   "cell_type": "code",
   "execution_count": 13,
   "outputs": [
    {
     "name": "stdout",
     "text": [
      "Accuracy: 0.9999596513879923\nF1: 0.9999596513879923\n",
      "False Positive Rate for Benign: 0.0\nTrue Positive Rate for Benign: 0.9999192669438501\nFalse Positive Rate for Malicious: 8.073305614984056e-05\nTrue Positive Rate for Malicious: 1.0\nPrecision: 0.9999596513879923\nRecall: 0.9999596513879923\n"
     ],
     "output_type": "stream"
    }
   ],
   "source": [
    "predictions = reg_rf(small_sample, 5, 10)\n",
    "predictions_rdd = predictions.select(['label', 'prediction']).rdd.map(tuple)\n",
    "metrics = MulticlassMetrics(predictions_rdd)\n",
    "printout(metrics)\n"
   ],
   "metadata": {
    "collapsed": false,
    "pycharm": {
     "name": "#%%\n",
     "is_executing": false
    }
   }
  }
 ],
 "metadata": {
  "kernelspec": {
   "display_name": "Python 3",
   "language": "python",
   "name": "python3"
  },
  "language_info": {
   "codemirror_mode": {
    "name": "ipython",
    "version": 2
   },
   "file_extension": ".py",
   "mimetype": "text/x-python",
   "name": "python",
   "nbconvert_exporter": "python",
   "pygments_lexer": "ipython2",
   "version": "2.7.6"
  },
  "pycharm": {
   "stem_cell": {
    "cell_type": "raw",
    "source": [],
    "metadata": {
     "collapsed": false
    }
   }
  }
 },
 "nbformat": 4,
 "nbformat_minor": 0
}