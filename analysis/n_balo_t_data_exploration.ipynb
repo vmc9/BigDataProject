{
 "cells": [
  {
   "cell_type": "markdown",
   "source": [
    "# N-BaIoT: Network-based Detection of IoT Botnet Attacks Using Deep Autoencoders\n",
    "## Yair Meidan, Michael Bohadana, Yael Mathov, Yisroel Mirsky, Dominik Breitenbacher, Asaf Shabtai, and Yuval Elovici\n",
    "## IEEE PERVASIVE COMPUTING, VOL. 13, NO. 9, JULY-SEPTEMBER 2018\n",
    "## [Dataset available](http://archive.ics.uci.edu/ml/datasets/detection_of_IoT_botnet_attacks_N_BaIoT#)\n",
    "\n",
    "## Data Sources\n",
    "- Traffic Collected from 2 separate Botnet Attacks across 9 devices\n",
    " - Mirai\n",
    "    - Danmini Doorbell\n",
    "    - Ecobee Thermostat\n",
    "    - Ennio Dorbell\n",
    "    - Philips B120N10 Baby Monitor\n",
    "    - Provision PT_737E Security Camera\n",
    "    - Provision PT_838 Security Camera\n",
    "    - Simplehome XCS_1002_WHT Security Camera\n",
    "    - Simplehome XCS_1003_WHT Security Camera\n",
    " - Bashlite\n",
    "    - Danmini Doorbell\n",
    "    - Ecobee Thermostat\n",
    "    - Philips B120N10 Baby Monitor\n",
    "    - Provision PT_737E Security Camera\n",
    "    - Provision PT_838 Security Camera\n",
    "    - Samsung SNH_1011_N Webcam\n",
    "    - Simplehome XCS_1002_WHT Security Camera\n",
    "    - Simplehome XCS_1003_WHT Security Camera\n",
    "\n",
    "## Attribute Description (From \"N-BaIoT: Network-based Detection of IoT Botnet Attacks Using Deep Autoencoders\")\n",
    "- The following describes each of the features headers:\n",
    " - Stream aggregation:\n",
    "\t- H: (\"Source IP\" in N-BaIoT paper) Stats summarizing the recent traffic from this packet's host (IP)\n",
    "\t- MI: (\"Source MAC-IP\" in N-BaIoT paper) Stats summarizing the recent traffic from this packet's host (IP + MAC)\n",
    "\t- HH: (\"Channel\" in N-BaIoT paper) Stats summarizing the recent traffic going from this packet's host (IP) to the \n",
    "\tpacket's destination host.\n",
    "\t- HH_jit: (\"Channel jitter\" in N-BaIoT paper) Stats summarizing the jitter of the traffic going from this packet's\n",
    "\t host (IP) to the packet's destination host.\n",
    "\t- HpHp: (\"Socket\" in N-BaIoT paper) Stats summarizing the recent traffic going from this packet's host+port (IP) \n",
    "\tto the packet's destination host+port. Example 192.168.4.2:1242 -> 192.168.4.12:80\n",
    "- Time-frame (The decay factor Lambda used in the damped window): \n",
    "\t- How much recent history of the stream is capture in these statistics\n",
    "\t- L5, L3, L1, L0.1 and L0.01\n",
    "- The statistics extracted from the packet stream:\n",
    "\t- weight: The weight of the stream (can be viewed as the number of items observed in recent history)\n",
    "\t- mean: ...\n",
    "\t- std: ...\n",
    "\t- radius: The root squared sum of the two streams' variances\n",
    "\t- magnitude: The root squared sum of the two streams' mea  ns \n",
    "\t- cov: An approximated covariance between two streams\n",
    "\t- pcc: An approximated correlation coefficient between two streams   "
   ],
   "metadata": {
    "collapsed": false
   }
  },
  {
   "cell_type": "code",
   "execution_count": 1,
   "metadata": {
    "collapsed": true,
    "pycharm": {
     "is_executing": false,
     "name": "#%%\n"
    }
   },
   "outputs": [],
   "source": [
    "import dask.dataframe as dd"
   ]
  },
  {
   "cell_type": "code",
   "execution_count": 9,
   "outputs": [],
   "source": [
    "bashlite_devices = ['danmini_doorbell', 'ecobee_thermostat', 'ennio_doorbell', 'philips_B120N10_baby_monitor', \n",
    "            'provision_PT_737E_security_camera', 'provision_PT_838_security_camera', 'samsung_SNH_1011_N_webcam',\n",
    "            'simplehome_XCS_1002_WHT_security_camera', 'simplehome_XCS_1003_WHT_security_camera']\n",
    "\n",
    "mirai_devices = ['danmini_doorbell', 'ecobee_thermostat', 'philips_B120N10_baby_monitor', \n",
    "            'provision_PT_737E_security_camera', 'provision_PT_838_security_camera',\n",
    "            'simplehome_XCS_1002_WHT_security_camera', 'simplehome_XCS_1003_WHT_security_camera']\n",
    "\n",
    "benign = ['danmini_doorbell', 'ecobee_thermostat', 'ennio_doorbell', 'philips_B120N10_baby_monitor', \n",
    "            'provision_PT_737E_security_camera', 'provision_PT_838_security_camera', 'samsung_SNH_1011_N_webcam',\n",
    "            'simplehome_XCS_1002_WHT_security_camera', 'simplehome_XCS_1003_WHT_security_camera']\n",
    "\n",
    "bashlite_attacks = ['scan', # scanning a network for vulnerable devices\n",
    "                    'junk', # sending spam data\n",
    "                    'udp', # udp flood\n",
    "                    'tcp', # tcp flood\n",
    "                    'combo'] # sending spam data and opening connection to specific ip/port\n",
    "\n",
    "mirai_attacks = ['ack', # automatic scan for vulnerable devices\n",
    "                 'scan', # ack flood\n",
    "                 'syn', # syn flood\n",
    "                 'udp', # udp flood\n",
    "                 'udpplain'] # optimized udp flood"
   ],
   "metadata": {
    "collapsed": false,
    "pycharm": {
     "name": "#%%\n",
     "is_executing": false
    }
   }
  },
  {
   "cell_type": "code",
   "execution_count": 10,
   "outputs": [],
   "source": [
    "bashlite_attack_data = {}\n",
    "for device in bashlite_devices:\n",
    "    for attack in bashlite_attacks:\n",
    "        bashlite_attack_data[device] = {attack: dd.read_csv(f'../data/n_balo_t/{device}/gafgyt_attacks/{attack}.csv')}\n",
    "\n",
    "mirai_attack_data = {}\n",
    "for device in mirai_devices:\n",
    "    for attack in mirai_attacks:\n",
    "        mirai_attack_data[device] = {attack: dd.read_csv(f'../data/n_balo_t/{device}/mirai_attacks/{attack}.csv')}\n",
    "        \n",
    "benign_traffic_data = {}\n",
    "for device in benign:\n",
    "    benign_traffic_data[device] = dd.read_csv(f'../data/n_balo_t/{device}/benign_traffic.csv')"
   ],
   "metadata": {
    "collapsed": false,
    "pycharm": {
     "name": "#%%\n",
     "is_executing": false
    }
   }
  },
  {
   "cell_type": "code",
   "execution_count": 12,
   "outputs": [
    {
     "data": {
      "text/plain": "   MI_dir_L5_weight  MI_dir_L5_mean  MI_dir_L5_variance  MI_dir_L3_weight  \\\n0          1.000000       98.000000        0.000000e+00          1.000000   \n1          1.029000       98.000000        1.818989e-12          1.119520   \n2          1.504156       76.725612        2.281808e+02          1.729662   \n3          2.460087       75.617679        1.372200e+02          2.699075   \n4          3.460055       75.150149        9.809937e+01          3.699054   \n\n   MI_dir_L3_mean  MI_dir_L3_variance  MI_dir_L1_weight  MI_dir_L1_mean  \\\n0       98.000000            0.000000          1.000000       98.000000   \n1       98.000000            0.000000          1.492583       98.000000   \n2       79.499272          249.746357          2.294102       84.051188   \n3       77.461807          164.269331          3.280499       80.987267   \n4       76.525944          122.224798          4.280490       79.354915   \n\n   MI_dir_L1_variance  MI_dir_L0.1_weight  ...  HpHp_L0.1_radius  \\\n0        0.000000e+00            1.000000  ...      0.000000e+00   \n1        3.637979e-12            1.931640  ...      1.818989e-12   \n2        2.517926e+02            2.904273  ...      0.000000e+00   \n3        1.964467e+02            3.902546  ...      0.000000e+00   \n4        1.592943e+02            4.902545  ...      0.000000e+00   \n\n   HpHp_L0.1_covariance  HpHp_L0.1_pcc  HpHp_L0.01_weight  HpHp_L0.01_mean  \\\n0                   0.0            0.0           1.000000             98.0   \n1                   0.0            0.0           1.992944             98.0   \n2                   0.0            0.0           1.000000             66.0   \n3                   0.0            0.0           1.000000             74.0   \n4                   0.0            0.0           1.000000             74.0   \n\n   HpHp_L0.01_std  HpHp_L0.01_magnitude  HpHp_L0.01_radius  \\\n0        0.000000             98.000000       0.000000e+00   \n1        0.000001            138.592929       1.818989e-12   \n2        0.000000            114.856432       0.000000e+00   \n3        0.000000             74.000000       0.000000e+00   \n4        0.000000             74.000000       0.000000e+00   \n\n   HpHp_L0.01_covariance  HpHp_L0.01_pcc  \n0                    0.0             0.0  \n1                    0.0             0.0  \n2                    0.0             0.0  \n3                    0.0             0.0  \n4                    0.0             0.0  \n\n[5 rows x 115 columns]",
      "text/html": "<div>\n<style scoped>\n    .dataframe tbody tr th:only-of-type {\n        vertical-align: middle;\n    }\n\n    .dataframe tbody tr th {\n        vertical-align: top;\n    }\n\n    .dataframe thead th {\n        text-align: right;\n    }\n</style>\n<table border=\"1\" class=\"dataframe\">\n  <thead>\n    <tr style=\"text-align: right;\">\n      <th></th>\n      <th>MI_dir_L5_weight</th>\n      <th>MI_dir_L5_mean</th>\n      <th>MI_dir_L5_variance</th>\n      <th>MI_dir_L3_weight</th>\n      <th>MI_dir_L3_mean</th>\n      <th>MI_dir_L3_variance</th>\n      <th>MI_dir_L1_weight</th>\n      <th>MI_dir_L1_mean</th>\n      <th>MI_dir_L1_variance</th>\n      <th>MI_dir_L0.1_weight</th>\n      <th>...</th>\n      <th>HpHp_L0.1_radius</th>\n      <th>HpHp_L0.1_covariance</th>\n      <th>HpHp_L0.1_pcc</th>\n      <th>HpHp_L0.01_weight</th>\n      <th>HpHp_L0.01_mean</th>\n      <th>HpHp_L0.01_std</th>\n      <th>HpHp_L0.01_magnitude</th>\n      <th>HpHp_L0.01_radius</th>\n      <th>HpHp_L0.01_covariance</th>\n      <th>HpHp_L0.01_pcc</th>\n    </tr>\n  </thead>\n  <tbody>\n    <tr>\n      <th>0</th>\n      <td>1.000000</td>\n      <td>98.000000</td>\n      <td>0.000000e+00</td>\n      <td>1.000000</td>\n      <td>98.000000</td>\n      <td>0.000000</td>\n      <td>1.000000</td>\n      <td>98.000000</td>\n      <td>0.000000e+00</td>\n      <td>1.000000</td>\n      <td>...</td>\n      <td>0.000000e+00</td>\n      <td>0.0</td>\n      <td>0.0</td>\n      <td>1.000000</td>\n      <td>98.0</td>\n      <td>0.000000</td>\n      <td>98.000000</td>\n      <td>0.000000e+00</td>\n      <td>0.0</td>\n      <td>0.0</td>\n    </tr>\n    <tr>\n      <th>1</th>\n      <td>1.029000</td>\n      <td>98.000000</td>\n      <td>1.818989e-12</td>\n      <td>1.119520</td>\n      <td>98.000000</td>\n      <td>0.000000</td>\n      <td>1.492583</td>\n      <td>98.000000</td>\n      <td>3.637979e-12</td>\n      <td>1.931640</td>\n      <td>...</td>\n      <td>1.818989e-12</td>\n      <td>0.0</td>\n      <td>0.0</td>\n      <td>1.992944</td>\n      <td>98.0</td>\n      <td>0.000001</td>\n      <td>138.592929</td>\n      <td>1.818989e-12</td>\n      <td>0.0</td>\n      <td>0.0</td>\n    </tr>\n    <tr>\n      <th>2</th>\n      <td>1.504156</td>\n      <td>76.725612</td>\n      <td>2.281808e+02</td>\n      <td>1.729662</td>\n      <td>79.499272</td>\n      <td>249.746357</td>\n      <td>2.294102</td>\n      <td>84.051188</td>\n      <td>2.517926e+02</td>\n      <td>2.904273</td>\n      <td>...</td>\n      <td>0.000000e+00</td>\n      <td>0.0</td>\n      <td>0.0</td>\n      <td>1.000000</td>\n      <td>66.0</td>\n      <td>0.000000</td>\n      <td>114.856432</td>\n      <td>0.000000e+00</td>\n      <td>0.0</td>\n      <td>0.0</td>\n    </tr>\n    <tr>\n      <th>3</th>\n      <td>2.460087</td>\n      <td>75.617679</td>\n      <td>1.372200e+02</td>\n      <td>2.699075</td>\n      <td>77.461807</td>\n      <td>164.269331</td>\n      <td>3.280499</td>\n      <td>80.987267</td>\n      <td>1.964467e+02</td>\n      <td>3.902546</td>\n      <td>...</td>\n      <td>0.000000e+00</td>\n      <td>0.0</td>\n      <td>0.0</td>\n      <td>1.000000</td>\n      <td>74.0</td>\n      <td>0.000000</td>\n      <td>74.000000</td>\n      <td>0.000000e+00</td>\n      <td>0.0</td>\n      <td>0.0</td>\n    </tr>\n    <tr>\n      <th>4</th>\n      <td>3.460055</td>\n      <td>75.150149</td>\n      <td>9.809937e+01</td>\n      <td>3.699054</td>\n      <td>76.525944</td>\n      <td>122.224798</td>\n      <td>4.280490</td>\n      <td>79.354915</td>\n      <td>1.592943e+02</td>\n      <td>4.902545</td>\n      <td>...</td>\n      <td>0.000000e+00</td>\n      <td>0.0</td>\n      <td>0.0</td>\n      <td>1.000000</td>\n      <td>74.0</td>\n      <td>0.000000</td>\n      <td>74.000000</td>\n      <td>0.000000e+00</td>\n      <td>0.0</td>\n      <td>0.0</td>\n    </tr>\n  </tbody>\n</table>\n<p>5 rows × 115 columns</p>\n</div>"
     },
     "metadata": {},
     "output_type": "execute_result",
     "execution_count": 12
    }
   ],
   "source": [
    "(bashlite_attack_data['danmini_doorbell']['combo']).head()"
   ],
   "metadata": {
    "collapsed": false,
    "pycharm": {
     "name": "#%%\n",
     "is_executing": false
    }
   }
  },
  {
   "cell_type": "code",
   "execution_count": null,
   "outputs": [],
   "source": [
    "\n"
   ],
   "metadata": {
    "collapsed": false,
    "pycharm": {
     "name": "#%%\n"
    }
   }
  }
 ],
 "metadata": {
  "kernelspec": {
   "display_name": "Python 3",
   "language": "python",
   "name": "python3"
  },
  "language_info": {
   "codemirror_mode": {
    "name": "ipython",
    "version": 2
   },
   "file_extension": ".py",
   "mimetype": "text/x-python",
   "name": "python",
   "nbconvert_exporter": "python",
   "pygments_lexer": "ipython2",
   "version": "2.7.6"
  },
  "pycharm": {
   "stem_cell": {
    "cell_type": "raw",
    "source": [],
    "metadata": {
     "collapsed": false
    }
   }
  }
 },
 "nbformat": 4,
 "nbformat_minor": 0
}