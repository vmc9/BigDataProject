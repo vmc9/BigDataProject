{
 "cells": [
  {
   "cell_type": "markdown",
   "source": [
    "# N-BaIoT: Network-based Detection of IoT Botnet Attacks Using Deep Autoencoders\n",
    "## Yair Meidan, Michael Bohadana, Yael Mathov, Yisroel Mirsky, Dominik Breitenbacher, Asaf Shabtai, and Yuval Elovici\n",
    "## IEEE PERVASIVE COMPUTING, VOL. 13, NO. 9, JULY-SEPTEMBER 2018\n",
    "## [Dataset available](http://archive.ics.uci.edu/ml/datasets/detection_of_IoT_botnet_attacks_N_BaIoT#)\n",
    "\n",
    "## Data Sources\n",
    "- Traffic Collected from 2 separate Botnet Attacks across 9 devices\n",
    " - Mirai\n",
    "    - Danmini Doorbell\n",
    "    - Ecobee Thermostat\n",
    "    - Ennio Dorbell\n",
    "    - Philips B120N10 Baby Monitor\n",
    "    - Provision PT_737E Security Camera\n",
    "    - Provision PT_838 Security Camera\n",
    "    - Simplehome XCS_1002_WHT Security Camera\n",
    "    - Simplehome XCS_1003_WHT Security Camera\n",
    " - Bashlite\n",
    "    - Danmini Doorbell\n",
    "    - Ecobee Thermostat\n",
    "    - Philips B120N10 Baby Monitor\n",
    "    - Provision PT_737E Security Camera\n",
    "    - Provision PT_838 Security Camera\n",
    "    - Samsung SNH_1011_N Webcam\n",
    "    - Simplehome XCS_1002_WHT Security Camera\n",
    "    - Simplehome XCS_1003_WHT Security Camera\n",
    "\n",
    "## Attribute Description (From \"N-BaIoT: Network-based Detection of IoT Botnet Attacks Using Deep Autoencoders\")\n",
    "- The following describes each of the features headers:\n",
    " - Stream aggregation:\n",
    "\t- H: (\"Source IP\" in N-BaIoT paper) Stats summarizing the recent traffic from this packet's host (IP)\n",
    "\t- MI: (\"Source MAC-IP\" in N-BaIoT paper) Stats summarizing the recent traffic from this packet's host (IP + MAC)\n",
    "\t- HH: (\"Channel\" in N-BaIoT paper) Stats summarizing the recent traffic going from this packet's host (IP) to the \n",
    "\tpacket's destination host.\n",
    "\t- HH_jit: (\"Channel jitter\" in N-BaIoT paper) Stats summarizing the jitter of the traffic going from this packet's\n",
    "\t host (IP) to the packet's destination host.\n",
    "\t- HpHp: (\"Socket\" in N-BaIoT paper) Stats summarizing the recent traffic going from this packet's host+port (IP) \n",
    "\tto the packet's destination host+port. Example 192.168.4.2:1242 -> 192.168.4.12:80\n",
    "- Time-frame (The decay factor Lambda used in the damped window): \n",
    "\t- How much recent history of the stream is capture in these statistics\n",
    "\t- L5, L3, L1, L0.1 and L0.01\n",
    "- The statistics extracted from the packet stream:\n",
    "\t- weight: The weight of the stream (can be viewed as the number of items observed in recent history)\n",
    "\t- mean: ...\n",
    "\t- std: ...\n",
    "\t- radius: The root squared sum of the two streams' variances\n",
    "\t- magnitude: The root squared sum of the two streams' mea  ns \n",
    "\t- cov: An approximated covariance between two streams\n",
    "\t- pcc: An approximated correlation coefficient between two streams   "
   ],
   "metadata": {
    "collapsed": false
   }
  },
  {
   "cell_type": "code",
   "execution_count": 1,
   "metadata": {
    "collapsed": true,
    "pycharm": {
     "is_executing": false,
     "name": "#%%\n"
    }
   },
   "outputs": [],
   "source": [
    "import dask.dataframe as dd"
   ]
  },
  {
   "cell_type": "code",
   "execution_count": 2,
   "outputs": [],
   "source": [
    "bashlite_devices = ['danmini_doorbell', 'ecobee_thermostat', 'ennio_doorbell', 'philips_B120N10_baby_monitor', \n",
    "            'provision_PT_737E_security_camera', 'provision_PT_838_security_camera', 'samsung_SNH_1011_N_webcam',\n",
    "            'simplehome_XCS_1002_WHT_security_camera', 'simplehome_XCS_1003_WHT_security_camera']\n",
    "\n",
    "mirai_devices = ['danmini_doorbell', 'ecobee_thermostat', 'philips_B120N10_baby_monitor', \n",
    "            'provision_PT_737E_security_camera', 'provision_PT_838_security_camera',\n",
    "            'simplehome_XCS_1002_WHT_security_camera', 'simplehome_XCS_1003_WHT_security_camera']\n",
    "\n",
    "benign = ['danmini_doorbell', 'ecobee_thermostat', 'ennio_doorbell', 'philips_B120N10_baby_monitor', \n",
    "            'provision_PT_737E_security_camera', 'provision_PT_838_security_camera', 'samsung_SNH_1011_N_webcam',\n",
    "            'simplehome_XCS_1002_WHT_security_camera', 'simplehome_XCS_1003_WHT_security_camera']\n",
    "\n",
    "bashlite_attacks = ['scan', # scanning a network for vulnerable devices\n",
    "                    'junk', # sending spam data\n",
    "                    'udp', # udp flood\n",
    "                    'tcp', # tcp flood\n",
    "                    'combo'] # sending spam data and opening connection to specific ip/port\n",
    "\n",
    "mirai_attacks = ['ack', # automatic scan for vulnerable devices\n",
    "                 'scan', # ack flood\n",
    "                 'syn', # syn flood\n",
    "                 'udp', # udp flood\n",
    "                 'udpplain'] # optimized udp flood"
   ],
   "metadata": {
    "collapsed": false,
    "pycharm": {
     "name": "#%%\n",
     "is_executing": false
    }
   }
  },
  {
   "cell_type": "code",
   "execution_count": 3,
   "outputs": [],
   "source": [
    "bashlite_attack_data = {}\n",
    "for device in bashlite_devices:\n",
    "    for attack in bashlite_attacks:\n",
    "        bashlite_attack_data[device] = {attack: dd.read_csv(f'../data/n_balo_t/{device}/gafgyt_attacks/{attack}.csv')}\n",
    "\n",
    "mirai_attack_data = {}\n",
    "for device in mirai_devices:\n",
    "    for attack in mirai_attacks:\n",
    "        mirai_attack_data[device] = {attack: dd.read_csv(f'../data/n_balo_t/{device}/mirai_attacks/{attack}.csv')}\n",
    "        \n",
    "benign_traffic_data = {}\n",
    "for device in benign:\n",
    "    benign_traffic_data[device] = dd.read_csv(f'../data/n_balo_t/{device}/benign_traffic.csv')"
   ],
   "metadata": {
    "collapsed": false,
    "pycharm": {
     "name": "#%%\n",
     "is_executing": false
    }
   }
  },
  {
   "cell_type": "code",
   "execution_count": 7,
   "outputs": [],
   "source": [
    "cols = (bashlite_attack_data['danmini_doorbell']['combo']).columns"
   ],
   "metadata": {
    "collapsed": false,
    "pycharm": {
     "name": "#%%\n",
     "is_executing": false
    }
   }
  },
  {
   "cell_type": "code",
   "execution_count": 9,
   "outputs": [
    {
     "name": "stdout",
     "text": [
      "MI_dir_L5_weight\nMI_dir_L5_mean\nMI_dir_L5_variance\nMI_dir_L3_weight\nMI_dir_L3_mean\nMI_dir_L3_variance\nMI_dir_L1_weight\nMI_dir_L1_mean\nMI_dir_L1_variance\nMI_dir_L0.1_weight\nMI_dir_L0.1_mean\nMI_dir_L0.1_variance\nMI_dir_L0.01_weight\nMI_dir_L0.01_mean\nMI_dir_L0.01_variance\nH_L5_weight\nH_L5_mean\nH_L5_variance\nH_L3_weight\nH_L3_mean\nH_L3_variance\nH_L1_weight\nH_L1_mean\nH_L1_variance\nH_L0.1_weight\nH_L0.1_mean\nH_L0.1_variance\nH_L0.01_weight\nH_L0.01_mean\nH_L0.01_variance\nHH_L5_weight\nHH_L5_mean\nHH_L5_std\nHH_L5_magnitude\nHH_L5_radius\nHH_L5_covariance\nHH_L5_pcc\nHH_L3_weight\nHH_L3_mean\nHH_L3_std\nHH_L3_magnitude\nHH_L3_radius\nHH_L3_covariance\nHH_L3_pcc\nHH_L1_weight\nHH_L1_mean\nHH_L1_std\nHH_L1_magnitude\nHH_L1_radius\nHH_L1_covariance\nHH_L1_pcc\nHH_L0.1_weight\nHH_L0.1_mean\nHH_L0.1_std\nHH_L0.1_magnitude\nHH_L0.1_radius\nHH_L0.1_covariance\nHH_L0.1_pcc\nHH_L0.01_weight\nHH_L0.01_mean\nHH_L0.01_std\nHH_L0.01_magnitude\nHH_L0.01_radius\nHH_L0.01_covariance\nHH_L0.01_pcc\nHH_jit_L5_weight\nHH_jit_L5_mean\nHH_jit_L5_variance\nHH_jit_L3_weight\nHH_jit_L3_mean\nHH_jit_L3_variance\nHH_jit_L1_weight\nHH_jit_L1_mean\nHH_jit_L1_variance\nHH_jit_L0.1_weight\nHH_jit_L0.1_mean\nHH_jit_L0.1_variance\nHH_jit_L0.01_weight\nHH_jit_L0.01_mean\nHH_jit_L0.01_variance\nHpHp_L5_weight\nHpHp_L5_mean\nHpHp_L5_std\nHpHp_L5_magnitude\nHpHp_L5_radius\nHpHp_L5_covariance\nHpHp_L5_pcc\nHpHp_L3_weight\nHpHp_L3_mean\nHpHp_L3_std\nHpHp_L3_magnitude\nHpHp_L3_radius\nHpHp_L3_covariance\nHpHp_L3_pcc\nHpHp_L1_weight\nHpHp_L1_mean\nHpHp_L1_std\nHpHp_L1_magnitude\nHpHp_L1_radius\nHpHp_L1_covariance\nHpHp_L1_pcc\nHpHp_L0.1_weight\nHpHp_L0.1_mean\nHpHp_L0.1_std\nHpHp_L0.1_magnitude\nHpHp_L0.1_radius\nHpHp_L0.1_covariance\nHpHp_L0.1_pcc\nHpHp_L0.01_weight\nHpHp_L0.01_mean\nHpHp_L0.01_std\nHpHp_L0.01_magnitude\nHpHp_L0.01_radius\nHpHp_L0.01_covariance\nHpHp_L0.01_pcc\n"
     ],
     "output_type": "stream"
    }
   ],
   "source": [
    "for x in cols:\n",
    "    print(x)"
   ],
   "metadata": {
    "collapsed": false,
    "pycharm": {
     "name": "#%%\n",
     "is_executing": false
    }
   }
  }
 ],
 "metadata": {
  "kernelspec": {
   "display_name": "Python 3",
   "language": "python",
   "name": "python3"
  },
  "language_info": {
   "codemirror_mode": {
    "name": "ipython",
    "version": 2
   },
   "file_extension": ".py",
   "mimetype": "text/x-python",
   "name": "python",
   "nbconvert_exporter": "python",
   "pygments_lexer": "ipython2",
   "version": "2.7.6"
  },
  "pycharm": {
   "stem_cell": {
    "cell_type": "raw",
    "source": [],
    "metadata": {
     "collapsed": false
    }
   }
  }
 },
 "nbformat": 4,
 "nbformat_minor": 0
}